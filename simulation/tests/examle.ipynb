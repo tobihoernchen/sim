{
 "cells": [
  {
   "cell_type": "code",
   "execution_count": 1,
   "metadata": {},
   "outputs": [],
   "source": [
    "import plotly.express as px\n",
    "import numpy as np\n",
    "import pandas as pd"
   ]
  },
  {
   "cell_type": "code",
   "execution_count": 2,
   "metadata": {},
   "outputs": [
    {
     "data": {
      "text/plain": [
       "<Sim_Robot.RobHandling at 0x2d2e21bf248>"
      ]
     },
     "execution_count": 2,
     "metadata": {},
     "output_type": "execute_result"
    }
   ],
   "source": [
    "import Sim as sim\n",
    "from sim.Sim_Part import src_part\n",
    "\n",
    "\n",
    "jig1 = sim.Jig(\"Jig 1\")\n",
    "sim.BufferSource(\"SRC1\", 10, 45, parent=jig1, getNextPart=sim.src_part(\"VB\"))\n",
    "\n",
    "buf = sim.RotBuffer(\"Buff\", 3, 5, 5)\n",
    "\n",
    "rob1 = sim.Rob(\"Robbie 1\")\n",
    "sim.RobHandling(\"Einlagern\", jig1, buf, 5, 23, 5, parent=rob1)\n",
    "\n",
    "jig2 = sim.Jig(\"Übergabe\")\n",
    "sim.BufferDrain(\n",
    "    \"Drain\",\n",
    "    62,\n",
    "    parent=jig2,\n",
    ")\n",
    "\n",
    "\n",
    "rob2 = sim.Rob(\"Robbie 2\")\n",
    "sim.RobHandling(\"Auslagern\", buf, jig2, 5, 56, 5, parent=rob2, take_from_position=3)"
   ]
  },
  {
   "cell_type": "code",
   "execution_count": 3,
   "metadata": {},
   "outputs": [],
   "source": [
    "sim.core.run(0, 500)"
   ]
  },
  {
   "cell_type": "code",
   "execution_count": 4,
   "metadata": {},
   "outputs": [],
   "source": [
    "\n",
    "data = sim.core.getHistoryDf()"
   ]
  },
  {
   "cell_type": "code",
   "execution_count": 5,
   "metadata": {},
   "outputs": [],
   "source": [
    "data[\"duration\"] = data[\"end\"] - data[\"start\"]\n",
    "whos = list(data[\"who\"].unique())\n",
    "what = [x for x in data[\"action\"].unique() if not x.isnumeric()]\n",
    "data[\"y\"] = [whos.index(x) for x in data[\"who\"]]"
   ]
  },
  {
   "cell_type": "code",
   "execution_count": 35,
   "metadata": {},
   "outputs": [
    {
     "data": {
      "text/plain": [
       "[True, False, True, True, False, True, False]"
      ]
     },
     "execution_count": 35,
     "metadata": {},
     "output_type": "execute_result"
    }
   ],
   "source": [
    "[data[data[\"y\"]==x][\"action\"].values[0].isnumeric() for x in range(len(whos))]\n"
   ]
  },
  {
   "cell_type": "code",
   "execution_count": 33,
   "metadata": {},
   "outputs": [],
   "source": [
    "mins = {}\n",
    "maxs = {}\n",
    "for y, who in zip(range(len(whos)), whos):\n",
    "    if data[data[\"y\"]==y][\"action\"].values[0].isnumeric():\n",
    "        mins.update({y:min(data[data[\"y\"]==y][\"action\"].astype(int))})\n",
    "        maxs.update({y:max(data[data[\"y\"]==y][\"action\"].astype(int))})"
   ]
  },
  {
   "cell_type": "code",
   "execution_count": 41,
   "metadata": {},
   "outputs": [],
   "source": [
    "plot_x = []\n",
    "plot_y = []\n",
    "plot_texts = []\n",
    "plot_tags = []\n",
    "margin = 0.5\n",
    "for s, e, y, a in zip(data[\"start\"], data[\"end\"], data[\"y\"], data[\"action\"]):\n",
    "    plot_x.extend([s, e, None])\n",
    "    if a.isnumeric():\n",
    "        val = (int(a)-mins[y])/(maxs[y]-mins[y])\n",
    "        y = y+(val-0.5)*margin\n",
    "        plot_y.extend([y, y, None])\n",
    "        plot_texts.extend([a, \"\", \"\"])\n",
    "        plot_tags.extend([\"numeric\", \"numeric\", \"numeric\"])\n",
    "    else:\n",
    "        plot_y.extend([y, y, None])\n",
    "        plot_texts.extend([str(e-s), \"\", \"\"])\n",
    "        plot_tags.extend([a, a, a])"
   ]
  },
  {
   "cell_type": "code",
   "execution_count": 42,
   "metadata": {},
   "outputs": [],
   "source": [
    "plotdata = pd.DataFrame(list(zip(plot_x, plot_y, plot_texts, plot_tags)), columns= [\"x\", \"y\", \"text\", \"tag\"])"
   ]
  },
  {
   "cell_type": "code",
   "execution_count": 45,
   "metadata": {},
   "outputs": [
    {
     "data": {
      "application/vnd.plotly.v1+json": {
       "config": {
        "plotlyServerURL": "https://plot.ly"
       },
       "data": [
        {
         "hovertemplate": "tag=numeric<br>x=%{x}<br>y=%{y}<br>text=%{text}<extra></extra>",
         "legendgroup": "numeric",
         "line": {
          "color": "#636efa",
          "dash": "solid"
         },
         "marker": {
          "symbol": "circle"
         },
         "mode": "markers+lines+text",
         "name": "numeric",
         "orientation": "v",
         "showlegend": true,
         "text": [
          "1",
          "",
          "",
          "0",
          "",
          "",
          "1",
          "",
          "",
          "0",
          "",
          "",
          "1",
          "",
          "",
          "0",
          "",
          "",
          "1",
          "",
          "",
          "0",
          "",
          "",
          "1",
          "",
          "",
          "0",
          "",
          "",
          "1",
          "",
          "",
          "0",
          "",
          "",
          "1",
          "",
          "",
          "0",
          "",
          "",
          "1",
          "",
          "",
          "0",
          "",
          "",
          "1",
          "",
          "",
          "0",
          "",
          "",
          "1",
          "",
          "",
          "0",
          "",
          "",
          "1",
          "",
          "",
          "0",
          "",
          "",
          "1",
          "",
          "",
          "0",
          "",
          "",
          "1",
          "",
          "",
          "2",
          "",
          "",
          "1",
          "",
          "",
          "2",
          "",
          "",
          "1",
          "",
          "",
          "2",
          "",
          "",
          "1",
          "",
          "",
          "2",
          "",
          "",
          "3",
          "",
          "",
          "2",
          "",
          "",
          "0",
          "",
          "",
          "3",
          "",
          "",
          "1",
          "",
          "",
          "4",
          "",
          "",
          "2",
          "",
          "",
          "0",
          "",
          "",
          "1",
          "",
          "",
          "0",
          "",
          "",
          "1",
          "",
          "",
          "0",
          "",
          "",
          "1",
          "",
          "",
          "0",
          "",
          "",
          "1",
          "",
          "",
          "0",
          "",
          "",
          "1",
          "",
          "",
          "0",
          "",
          ""
         ],
         "textposition": "top center",
         "type": "scatter",
         "x": [
          0,
          50,
          null,
          50,
          55,
          null,
          55,
          105,
          null,
          105,
          110,
          null,
          110,
          160,
          null,
          160,
          165,
          null,
          165,
          215,
          null,
          215,
          220,
          null,
          220,
          270,
          null,
          270,
          275,
          null,
          275,
          325,
          null,
          325,
          330,
          null,
          330,
          380,
          null,
          380,
          385,
          null,
          385,
          435,
          null,
          435,
          440,
          null,
          440,
          490,
          null,
          490,
          495,
          null,
          495,
          500,
          null,
          0,
          73,
          null,
          73,
          98,
          null,
          98,
          128,
          null,
          128,
          174,
          null,
          174,
          183,
          null,
          183,
          250,
          null,
          250,
          255,
          null,
          255,
          293,
          null,
          293,
          331,
          null,
          331,
          348,
          null,
          348,
          397,
          null,
          397,
          403,
          null,
          403,
          458,
          null,
          458,
          478,
          null,
          478,
          500,
          null,
          0,
          78,
          null,
          93,
          159,
          null,
          169,
          235,
          null,
          250,
          316,
          null,
          326,
          463,
          null,
          0,
          154,
          null,
          154,
          159,
          null,
          159,
          230,
          null,
          230,
          235,
          null,
          235,
          311,
          null,
          311,
          316,
          null,
          316,
          387,
          null,
          387,
          392,
          null,
          392,
          453,
          null,
          453,
          458,
          null,
          458,
          500,
          null
         ],
         "xaxis": "x",
         "y": [
          0.25,
          0.25,
          null,
          -0.25,
          -0.25,
          null,
          0.25,
          0.25,
          null,
          -0.25,
          -0.25,
          null,
          0.25,
          0.25,
          null,
          -0.25,
          -0.25,
          null,
          0.25,
          0.25,
          null,
          -0.25,
          -0.25,
          null,
          0.25,
          0.25,
          null,
          -0.25,
          -0.25,
          null,
          0.25,
          0.25,
          null,
          -0.25,
          -0.25,
          null,
          0.25,
          0.25,
          null,
          -0.25,
          -0.25,
          null,
          0.25,
          0.25,
          null,
          -0.25,
          -0.25,
          null,
          0.25,
          0.25,
          null,
          -0.25,
          -0.25,
          null,
          0.25,
          0.25,
          null,
          1.75,
          1.75,
          null,
          1.9166666666666667,
          1.9166666666666667,
          null,
          1.75,
          1.75,
          null,
          1.9166666666666667,
          1.9166666666666667,
          null,
          1.75,
          1.75,
          null,
          1.9166666666666667,
          1.9166666666666667,
          null,
          2.0833333333333335,
          2.0833333333333335,
          null,
          1.9166666666666667,
          1.9166666666666667,
          null,
          2.0833333333333335,
          2.0833333333333335,
          null,
          1.9166666666666667,
          1.9166666666666667,
          null,
          2.0833333333333335,
          2.0833333333333335,
          null,
          1.9166666666666667,
          1.9166666666666667,
          null,
          2.0833333333333335,
          2.0833333333333335,
          null,
          2.25,
          2.25,
          null,
          2.0833333333333335,
          2.0833333333333335,
          null,
          2.75,
          2.75,
          null,
          3.125,
          3.125,
          null,
          2.875,
          2.875,
          null,
          3.25,
          3.25,
          null,
          3,
          3,
          null,
          4.75,
          4.75,
          null,
          5.25,
          5.25,
          null,
          4.75,
          4.75,
          null,
          5.25,
          5.25,
          null,
          4.75,
          4.75,
          null,
          5.25,
          5.25,
          null,
          4.75,
          4.75,
          null,
          5.25,
          5.25,
          null,
          4.75,
          4.75,
          null,
          5.25,
          5.25,
          null,
          4.75,
          4.75,
          null
         ],
         "yaxis": "y"
        },
        {
         "hovertemplate": "tag=Buff_rot<br>x=%{x}<br>y=%{y}<br>text=%{text}<extra></extra>",
         "legendgroup": "Buff_rot",
         "line": {
          "color": "#EF553B",
          "dash": "solid"
         },
         "marker": {
          "symbol": "circle"
         },
         "mode": "markers+lines+text",
         "name": "Buff_rot",
         "orientation": "v",
         "showlegend": true,
         "text": [
          "15",
          "",
          "",
          "10",
          "",
          "",
          "15",
          "",
          "",
          "10",
          "",
          "",
          "10",
          "",
          ""
         ],
         "textposition": "top center",
         "type": "scatter",
         "x": [
          78,
          93,
          null,
          159,
          169,
          null,
          235,
          250,
          null,
          316,
          326,
          null,
          463,
          473,
          null
         ],
         "xaxis": "x",
         "y": [
          1,
          1,
          null,
          1,
          1,
          null,
          1,
          1,
          null,
          1,
          1,
          null,
          1,
          1,
          null
         ],
         "yaxis": "y"
        },
        {
         "hovertemplate": "tag=Einlagern<br>x=%{x}<br>y=%{y}<br>text=%{text}<extra></extra>",
         "legendgroup": "Einlagern",
         "line": {
          "color": "#00cc96",
          "dash": "solid"
         },
         "marker": {
          "symbol": "circle"
         },
         "mode": "markers+lines+text",
         "name": "Einlagern",
         "orientation": "v",
         "showlegend": true,
         "text": [
          "33",
          "",
          "",
          "33",
          "",
          "",
          "33",
          "",
          "",
          "45",
          "",
          "",
          "33",
          "",
          "",
          "33",
          "",
          "",
          "33",
          "",
          "",
          "33",
          "",
          "",
          "15",
          "",
          "",
          "15",
          "",
          ""
         ],
         "textposition": "top center",
         "type": "scatter",
         "x": [
          45,
          78,
          null,
          100,
          133,
          null,
          155,
          188,
          null,
          210,
          255,
          null,
          265,
          298,
          null,
          320,
          353,
          null,
          375,
          408,
          null,
          430,
          463,
          null,
          485,
          500,
          null,
          485,
          500,
          null
         ],
         "xaxis": "x",
         "y": [
          4,
          4,
          null,
          4,
          4,
          null,
          4,
          4,
          null,
          4,
          4,
          null,
          4,
          4,
          null,
          4,
          4,
          null,
          4,
          4,
          null,
          4,
          4,
          null,
          4,
          4,
          null,
          4,
          4,
          null
         ],
         "yaxis": "y"
        },
        {
         "hovertemplate": "tag=Auslagern<br>x=%{x}<br>y=%{y}<br>text=%{text}<extra></extra>",
         "legendgroup": "Auslagern",
         "line": {
          "color": "#ab63fa",
          "dash": "solid"
         },
         "marker": {
          "symbol": "circle"
         },
         "mode": "markers+lines+text",
         "name": "Auslagern",
         "orientation": "v",
         "showlegend": true,
         "text": [
          "66",
          "",
          "",
          "66",
          "",
          "",
          "66",
          "",
          "",
          "66",
          "",
          "",
          "66",
          "",
          "",
          "27",
          "",
          "",
          "27",
          "",
          ""
         ],
         "textposition": "top center",
         "type": "scatter",
         "x": [
          93,
          159,
          null,
          169,
          235,
          null,
          250,
          316,
          null,
          326,
          392,
          null,
          392,
          458,
          null,
          473,
          500,
          null,
          473,
          500,
          null
         ],
         "xaxis": "x",
         "y": [
          6,
          6,
          null,
          6,
          6,
          null,
          6,
          6,
          null,
          6,
          6,
          null,
          6,
          6,
          null,
          6,
          6,
          null,
          6,
          6,
          null
         ],
         "yaxis": "y"
        }
       ],
       "layout": {
        "legend": {
         "title": {
          "text": "tag"
         },
         "tracegroupgap": 0
        },
        "margin": {
         "t": 60
        },
        "template": {
         "data": {
          "bar": [
           {
            "error_x": {
             "color": "#2a3f5f"
            },
            "error_y": {
             "color": "#2a3f5f"
            },
            "marker": {
             "line": {
              "color": "#E5ECF6",
              "width": 0.5
             },
             "pattern": {
              "fillmode": "overlay",
              "size": 10,
              "solidity": 0.2
             }
            },
            "type": "bar"
           }
          ],
          "barpolar": [
           {
            "marker": {
             "line": {
              "color": "#E5ECF6",
              "width": 0.5
             },
             "pattern": {
              "fillmode": "overlay",
              "size": 10,
              "solidity": 0.2
             }
            },
            "type": "barpolar"
           }
          ],
          "carpet": [
           {
            "aaxis": {
             "endlinecolor": "#2a3f5f",
             "gridcolor": "white",
             "linecolor": "white",
             "minorgridcolor": "white",
             "startlinecolor": "#2a3f5f"
            },
            "baxis": {
             "endlinecolor": "#2a3f5f",
             "gridcolor": "white",
             "linecolor": "white",
             "minorgridcolor": "white",
             "startlinecolor": "#2a3f5f"
            },
            "type": "carpet"
           }
          ],
          "choropleth": [
           {
            "colorbar": {
             "outlinewidth": 0,
             "ticks": ""
            },
            "type": "choropleth"
           }
          ],
          "contour": [
           {
            "colorbar": {
             "outlinewidth": 0,
             "ticks": ""
            },
            "colorscale": [
             [
              0,
              "#0d0887"
             ],
             [
              0.1111111111111111,
              "#46039f"
             ],
             [
              0.2222222222222222,
              "#7201a8"
             ],
             [
              0.3333333333333333,
              "#9c179e"
             ],
             [
              0.4444444444444444,
              "#bd3786"
             ],
             [
              0.5555555555555556,
              "#d8576b"
             ],
             [
              0.6666666666666666,
              "#ed7953"
             ],
             [
              0.7777777777777778,
              "#fb9f3a"
             ],
             [
              0.8888888888888888,
              "#fdca26"
             ],
             [
              1,
              "#f0f921"
             ]
            ],
            "type": "contour"
           }
          ],
          "contourcarpet": [
           {
            "colorbar": {
             "outlinewidth": 0,
             "ticks": ""
            },
            "type": "contourcarpet"
           }
          ],
          "heatmap": [
           {
            "colorbar": {
             "outlinewidth": 0,
             "ticks": ""
            },
            "colorscale": [
             [
              0,
              "#0d0887"
             ],
             [
              0.1111111111111111,
              "#46039f"
             ],
             [
              0.2222222222222222,
              "#7201a8"
             ],
             [
              0.3333333333333333,
              "#9c179e"
             ],
             [
              0.4444444444444444,
              "#bd3786"
             ],
             [
              0.5555555555555556,
              "#d8576b"
             ],
             [
              0.6666666666666666,
              "#ed7953"
             ],
             [
              0.7777777777777778,
              "#fb9f3a"
             ],
             [
              0.8888888888888888,
              "#fdca26"
             ],
             [
              1,
              "#f0f921"
             ]
            ],
            "type": "heatmap"
           }
          ],
          "heatmapgl": [
           {
            "colorbar": {
             "outlinewidth": 0,
             "ticks": ""
            },
            "colorscale": [
             [
              0,
              "#0d0887"
             ],
             [
              0.1111111111111111,
              "#46039f"
             ],
             [
              0.2222222222222222,
              "#7201a8"
             ],
             [
              0.3333333333333333,
              "#9c179e"
             ],
             [
              0.4444444444444444,
              "#bd3786"
             ],
             [
              0.5555555555555556,
              "#d8576b"
             ],
             [
              0.6666666666666666,
              "#ed7953"
             ],
             [
              0.7777777777777778,
              "#fb9f3a"
             ],
             [
              0.8888888888888888,
              "#fdca26"
             ],
             [
              1,
              "#f0f921"
             ]
            ],
            "type": "heatmapgl"
           }
          ],
          "histogram": [
           {
            "marker": {
             "pattern": {
              "fillmode": "overlay",
              "size": 10,
              "solidity": 0.2
             }
            },
            "type": "histogram"
           }
          ],
          "histogram2d": [
           {
            "colorbar": {
             "outlinewidth": 0,
             "ticks": ""
            },
            "colorscale": [
             [
              0,
              "#0d0887"
             ],
             [
              0.1111111111111111,
              "#46039f"
             ],
             [
              0.2222222222222222,
              "#7201a8"
             ],
             [
              0.3333333333333333,
              "#9c179e"
             ],
             [
              0.4444444444444444,
              "#bd3786"
             ],
             [
              0.5555555555555556,
              "#d8576b"
             ],
             [
              0.6666666666666666,
              "#ed7953"
             ],
             [
              0.7777777777777778,
              "#fb9f3a"
             ],
             [
              0.8888888888888888,
              "#fdca26"
             ],
             [
              1,
              "#f0f921"
             ]
            ],
            "type": "histogram2d"
           }
          ],
          "histogram2dcontour": [
           {
            "colorbar": {
             "outlinewidth": 0,
             "ticks": ""
            },
            "colorscale": [
             [
              0,
              "#0d0887"
             ],
             [
              0.1111111111111111,
              "#46039f"
             ],
             [
              0.2222222222222222,
              "#7201a8"
             ],
             [
              0.3333333333333333,
              "#9c179e"
             ],
             [
              0.4444444444444444,
              "#bd3786"
             ],
             [
              0.5555555555555556,
              "#d8576b"
             ],
             [
              0.6666666666666666,
              "#ed7953"
             ],
             [
              0.7777777777777778,
              "#fb9f3a"
             ],
             [
              0.8888888888888888,
              "#fdca26"
             ],
             [
              1,
              "#f0f921"
             ]
            ],
            "type": "histogram2dcontour"
           }
          ],
          "mesh3d": [
           {
            "colorbar": {
             "outlinewidth": 0,
             "ticks": ""
            },
            "type": "mesh3d"
           }
          ],
          "parcoords": [
           {
            "line": {
             "colorbar": {
              "outlinewidth": 0,
              "ticks": ""
             }
            },
            "type": "parcoords"
           }
          ],
          "pie": [
           {
            "automargin": true,
            "type": "pie"
           }
          ],
          "scatter": [
           {
            "marker": {
             "colorbar": {
              "outlinewidth": 0,
              "ticks": ""
             }
            },
            "type": "scatter"
           }
          ],
          "scatter3d": [
           {
            "line": {
             "colorbar": {
              "outlinewidth": 0,
              "ticks": ""
             }
            },
            "marker": {
             "colorbar": {
              "outlinewidth": 0,
              "ticks": ""
             }
            },
            "type": "scatter3d"
           }
          ],
          "scattercarpet": [
           {
            "marker": {
             "colorbar": {
              "outlinewidth": 0,
              "ticks": ""
             }
            },
            "type": "scattercarpet"
           }
          ],
          "scattergeo": [
           {
            "marker": {
             "colorbar": {
              "outlinewidth": 0,
              "ticks": ""
             }
            },
            "type": "scattergeo"
           }
          ],
          "scattergl": [
           {
            "marker": {
             "colorbar": {
              "outlinewidth": 0,
              "ticks": ""
             }
            },
            "type": "scattergl"
           }
          ],
          "scattermapbox": [
           {
            "marker": {
             "colorbar": {
              "outlinewidth": 0,
              "ticks": ""
             }
            },
            "type": "scattermapbox"
           }
          ],
          "scatterpolar": [
           {
            "marker": {
             "colorbar": {
              "outlinewidth": 0,
              "ticks": ""
             }
            },
            "type": "scatterpolar"
           }
          ],
          "scatterpolargl": [
           {
            "marker": {
             "colorbar": {
              "outlinewidth": 0,
              "ticks": ""
             }
            },
            "type": "scatterpolargl"
           }
          ],
          "scatterternary": [
           {
            "marker": {
             "colorbar": {
              "outlinewidth": 0,
              "ticks": ""
             }
            },
            "type": "scatterternary"
           }
          ],
          "surface": [
           {
            "colorbar": {
             "outlinewidth": 0,
             "ticks": ""
            },
            "colorscale": [
             [
              0,
              "#0d0887"
             ],
             [
              0.1111111111111111,
              "#46039f"
             ],
             [
              0.2222222222222222,
              "#7201a8"
             ],
             [
              0.3333333333333333,
              "#9c179e"
             ],
             [
              0.4444444444444444,
              "#bd3786"
             ],
             [
              0.5555555555555556,
              "#d8576b"
             ],
             [
              0.6666666666666666,
              "#ed7953"
             ],
             [
              0.7777777777777778,
              "#fb9f3a"
             ],
             [
              0.8888888888888888,
              "#fdca26"
             ],
             [
              1,
              "#f0f921"
             ]
            ],
            "type": "surface"
           }
          ],
          "table": [
           {
            "cells": {
             "fill": {
              "color": "#EBF0F8"
             },
             "line": {
              "color": "white"
             }
            },
            "header": {
             "fill": {
              "color": "#C8D4E3"
             },
             "line": {
              "color": "white"
             }
            },
            "type": "table"
           }
          ]
         },
         "layout": {
          "annotationdefaults": {
           "arrowcolor": "#2a3f5f",
           "arrowhead": 0,
           "arrowwidth": 1
          },
          "autotypenumbers": "strict",
          "coloraxis": {
           "colorbar": {
            "outlinewidth": 0,
            "ticks": ""
           }
          },
          "colorscale": {
           "diverging": [
            [
             0,
             "#8e0152"
            ],
            [
             0.1,
             "#c51b7d"
            ],
            [
             0.2,
             "#de77ae"
            ],
            [
             0.3,
             "#f1b6da"
            ],
            [
             0.4,
             "#fde0ef"
            ],
            [
             0.5,
             "#f7f7f7"
            ],
            [
             0.6,
             "#e6f5d0"
            ],
            [
             0.7,
             "#b8e186"
            ],
            [
             0.8,
             "#7fbc41"
            ],
            [
             0.9,
             "#4d9221"
            ],
            [
             1,
             "#276419"
            ]
           ],
           "sequential": [
            [
             0,
             "#0d0887"
            ],
            [
             0.1111111111111111,
             "#46039f"
            ],
            [
             0.2222222222222222,
             "#7201a8"
            ],
            [
             0.3333333333333333,
             "#9c179e"
            ],
            [
             0.4444444444444444,
             "#bd3786"
            ],
            [
             0.5555555555555556,
             "#d8576b"
            ],
            [
             0.6666666666666666,
             "#ed7953"
            ],
            [
             0.7777777777777778,
             "#fb9f3a"
            ],
            [
             0.8888888888888888,
             "#fdca26"
            ],
            [
             1,
             "#f0f921"
            ]
           ],
           "sequentialminus": [
            [
             0,
             "#0d0887"
            ],
            [
             0.1111111111111111,
             "#46039f"
            ],
            [
             0.2222222222222222,
             "#7201a8"
            ],
            [
             0.3333333333333333,
             "#9c179e"
            ],
            [
             0.4444444444444444,
             "#bd3786"
            ],
            [
             0.5555555555555556,
             "#d8576b"
            ],
            [
             0.6666666666666666,
             "#ed7953"
            ],
            [
             0.7777777777777778,
             "#fb9f3a"
            ],
            [
             0.8888888888888888,
             "#fdca26"
            ],
            [
             1,
             "#f0f921"
            ]
           ]
          },
          "colorway": [
           "#636efa",
           "#EF553B",
           "#00cc96",
           "#ab63fa",
           "#FFA15A",
           "#19d3f3",
           "#FF6692",
           "#B6E880",
           "#FF97FF",
           "#FECB52"
          ],
          "font": {
           "color": "#2a3f5f"
          },
          "geo": {
           "bgcolor": "white",
           "lakecolor": "white",
           "landcolor": "#E5ECF6",
           "showlakes": true,
           "showland": true,
           "subunitcolor": "white"
          },
          "hoverlabel": {
           "align": "left"
          },
          "hovermode": "closest",
          "mapbox": {
           "style": "light"
          },
          "paper_bgcolor": "white",
          "plot_bgcolor": "#E5ECF6",
          "polar": {
           "angularaxis": {
            "gridcolor": "white",
            "linecolor": "white",
            "ticks": ""
           },
           "bgcolor": "#E5ECF6",
           "radialaxis": {
            "gridcolor": "white",
            "linecolor": "white",
            "ticks": ""
           }
          },
          "scene": {
           "xaxis": {
            "backgroundcolor": "#E5ECF6",
            "gridcolor": "white",
            "gridwidth": 2,
            "linecolor": "white",
            "showbackground": true,
            "ticks": "",
            "zerolinecolor": "white"
           },
           "yaxis": {
            "backgroundcolor": "#E5ECF6",
            "gridcolor": "white",
            "gridwidth": 2,
            "linecolor": "white",
            "showbackground": true,
            "ticks": "",
            "zerolinecolor": "white"
           },
           "zaxis": {
            "backgroundcolor": "#E5ECF6",
            "gridcolor": "white",
            "gridwidth": 2,
            "linecolor": "white",
            "showbackground": true,
            "ticks": "",
            "zerolinecolor": "white"
           }
          },
          "shapedefaults": {
           "line": {
            "color": "#2a3f5f"
           }
          },
          "ternary": {
           "aaxis": {
            "gridcolor": "white",
            "linecolor": "white",
            "ticks": ""
           },
           "baxis": {
            "gridcolor": "white",
            "linecolor": "white",
            "ticks": ""
           },
           "bgcolor": "#E5ECF6",
           "caxis": {
            "gridcolor": "white",
            "linecolor": "white",
            "ticks": ""
           }
          },
          "title": {
           "x": 0.05
          },
          "xaxis": {
           "automargin": true,
           "gridcolor": "white",
           "linecolor": "white",
           "ticks": "",
           "title": {
            "standoff": 15
           },
           "zerolinecolor": "white",
           "zerolinewidth": 2
          },
          "yaxis": {
           "automargin": true,
           "gridcolor": "white",
           "linecolor": "white",
           "ticks": "",
           "title": {
            "standoff": 15
           },
           "zerolinecolor": "white",
           "zerolinewidth": 2
          }
         }
        },
        "xaxis": {
         "anchor": "y",
         "domain": [
          0,
          1
         ],
         "title": {
          "text": "x"
         }
        },
        "yaxis": {
         "anchor": "x",
         "domain": [
          0,
          1
         ],
         "tickmode": "array",
         "ticktext": [
          "Jig 1_Fill",
          "Rotation_Buff",
          "Buff_Fill",
          "Buff_Position",
          "Program_Robbie 1",
          "Übergabe_Fill",
          "Program_Robbie 2"
         ],
         "tickvals": [
          0,
          1,
          2,
          3,
          4,
          5,
          6
         ],
         "title": {
          "text": "y"
         }
        }
       }
      }
     },
     "metadata": {},
     "output_type": "display_data"
    }
   ],
   "source": [
    "fig = px.line(plotdata, x=\"x\", y=\"y\", text = \"text\", color = \"tag\")\n",
    "fig.update_layout(\n",
    "    yaxis = dict(\n",
    "        tickmode = 'array',\n",
    "        tickvals = list(range(len(whos))),\n",
    "        ticktext = whos\n",
    "    )\n",
    ")\n",
    "fig.update_traces(textposition=\"top center\")\n",
    "fig.show()"
   ]
  },
  {
   "cell_type": "code",
   "execution_count": 10,
   "metadata": {},
   "outputs": [
    {
     "data": {
      "image/png": "[encoded data removed]",
      "text/plain": [
       "<Figure size 720x360 with 1 Axes>"
      ]
     },
     "metadata": {
      "needs_background": "light"
     },
     "output_type": "display_data"
    }
   ],
   "source": [
    "sim.core.plotHistory()"
   ]
  },
  {
   "cell_type": "code",
   "execution_count": 11,
   "metadata": {},
   "outputs": [
    {
     "data": {
      "text/html": [
       "<div>\n",
       "<style scoped>\n",
       "    .dataframe tbody tr th:only-of-type {\n",
       "        vertical-align: middle;\n",
       "    }\n",
       "\n",
       "    .dataframe tbody tr th {\n",
       "        vertical-align: top;\n",
       "    }\n",
       "\n",
       "    .dataframe thead th {\n",
       "        text-align: right;\n",
       "    }\n",
       "</style>\n",
       "<table border=\"1\" class=\"dataframe\">\n",
       "  <thead>\n",
       "    <tr style=\"text-align: right;\">\n",
       "      <th></th>\n",
       "      <th>action</th>\n",
       "      <th>who</th>\n",
       "      <th>start</th>\n",
       "      <th>end</th>\n",
       "      <th>duration</th>\n",
       "      <th>y</th>\n",
       "    </tr>\n",
       "  </thead>\n",
       "  <tbody>\n",
       "    <tr>\n",
       "      <th>0</th>\n",
       "      <td>1</td>\n",
       "      <td>Jig 1_Fill</td>\n",
       "      <td>0</td>\n",
       "      <td>50</td>\n",
       "      <td>50</td>\n",
       "      <td>0</td>\n",
       "    </tr>\n",
       "    <tr>\n",
       "      <th>1</th>\n",
       "      <td>0</td>\n",
       "      <td>Jig 1_Fill</td>\n",
       "      <td>50</td>\n",
       "      <td>55</td>\n",
       "      <td>5</td>\n",
       "      <td>0</td>\n",
       "    </tr>\n",
       "    <tr>\n",
       "      <th>2</th>\n",
       "      <td>1</td>\n",
       "      <td>Jig 1_Fill</td>\n",
       "      <td>55</td>\n",
       "      <td>105</td>\n",
       "      <td>50</td>\n",
       "      <td>0</td>\n",
       "    </tr>\n",
       "    <tr>\n",
       "      <th>3</th>\n",
       "      <td>0</td>\n",
       "      <td>Jig 1_Fill</td>\n",
       "      <td>105</td>\n",
       "      <td>110</td>\n",
       "      <td>5</td>\n",
       "      <td>0</td>\n",
       "    </tr>\n",
       "    <tr>\n",
       "      <th>4</th>\n",
       "      <td>1</td>\n",
       "      <td>Jig 1_Fill</td>\n",
       "      <td>110</td>\n",
       "      <td>160</td>\n",
       "      <td>50</td>\n",
       "      <td>0</td>\n",
       "    </tr>\n",
       "    <tr>\n",
       "      <th>...</th>\n",
       "      <td>...</td>\n",
       "      <td>...</td>\n",
       "      <td>...</td>\n",
       "      <td>...</td>\n",
       "      <td>...</td>\n",
       "      <td>...</td>\n",
       "    </tr>\n",
       "    <tr>\n",
       "      <th>67</th>\n",
       "      <td>Auslagern</td>\n",
       "      <td>Program_Robbie 2</td>\n",
       "      <td>250</td>\n",
       "      <td>316</td>\n",
       "      <td>66</td>\n",
       "      <td>6</td>\n",
       "    </tr>\n",
       "    <tr>\n",
       "      <th>68</th>\n",
       "      <td>Auslagern</td>\n",
       "      <td>Program_Robbie 2</td>\n",
       "      <td>326</td>\n",
       "      <td>392</td>\n",
       "      <td>66</td>\n",
       "      <td>6</td>\n",
       "    </tr>\n",
       "    <tr>\n",
       "      <th>69</th>\n",
       "      <td>Auslagern</td>\n",
       "      <td>Program_Robbie 2</td>\n",
       "      <td>392</td>\n",
       "      <td>458</td>\n",
       "      <td>66</td>\n",
       "      <td>6</td>\n",
       "    </tr>\n",
       "    <tr>\n",
       "      <th>70</th>\n",
       "      <td>Auslagern</td>\n",
       "      <td>Program_Robbie 2</td>\n",
       "      <td>473</td>\n",
       "      <td>500</td>\n",
       "      <td>27</td>\n",
       "      <td>6</td>\n",
       "    </tr>\n",
       "    <tr>\n",
       "      <th>71</th>\n",
       "      <td>Auslagern</td>\n",
       "      <td>Program_Robbie 2</td>\n",
       "      <td>473</td>\n",
       "      <td>500</td>\n",
       "      <td>27</td>\n",
       "      <td>6</td>\n",
       "    </tr>\n",
       "  </tbody>\n",
       "</table>\n",
       "<p>72 rows × 6 columns</p>\n",
       "</div>"
      ],
      "text/plain": [
       "       action               who  start  end  duration  y\n",
       "0           1        Jig 1_Fill      0   50        50  0\n",
       "1           0        Jig 1_Fill     50   55         5  0\n",
       "2           1        Jig 1_Fill     55  105        50  0\n",
       "3           0        Jig 1_Fill    105  110         5  0\n",
       "4           1        Jig 1_Fill    110  160        50  0\n",
       "..        ...               ...    ...  ...       ... ..\n",
       "67  Auslagern  Program_Robbie 2    250  316        66  6\n",
       "68  Auslagern  Program_Robbie 2    326  392        66  6\n",
       "69  Auslagern  Program_Robbie 2    392  458        66  6\n",
       "70  Auslagern  Program_Robbie 2    473  500        27  6\n",
       "71  Auslagern  Program_Robbie 2    473  500        27  6\n",
       "\n",
       "[72 rows x 6 columns]"
      ]
     },
     "execution_count": 11,
     "metadata": {},
     "output_type": "execute_result"
    }
   ],
   "source": [
    "data"
   ]
  }
 ],
 "metadata": {
  "interpreter": {
   "hash": "a9426e58bb9ec6e23e003952e7264cb52b052beb90c3ce10bff7f688815af85a"
  },
  "kernelspec": {
   "display_name": "Python 3.7.12 64-bit ('sim': conda)",
   "language": "python",
   "name": "python3"
  },
  "language_info": {
   "codemirror_mode": {
    "name": "ipython",
    "version": 3
   },
   "file_extension": ".py",
   "mimetype": "text/x-python",
   "name": "python",
   "nbconvert_exporter": "python",
   "pygments_lexer": "ipython3",
   "version": "3.7.12"
  },
  "orig_nbformat": 4
 },
 "nbformat": 4,
 "nbformat_minor": 2
}

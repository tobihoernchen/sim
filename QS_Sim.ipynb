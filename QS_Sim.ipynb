{
 "cells": [
  {
   "cell_type": "code",
   "execution_count": 1,
   "metadata": {},
   "outputs": [],
   "source": [
    "import Sim_Tools as simT\n",
    "import Sim_Programs as simP"
   ]
  },
  {
   "cell_type": "code",
   "execution_count": 2,
   "metadata": {},
   "outputs": [],
   "source": [
    "core = simT.simCore(0,60*60*24)\n",
    "bf1 = simT.buffer(\"Buffer 1\", 3, [\"part1\"])\n",
    "bf2 = simT.buffer(\"Buffer 2\", 3, [])\n",
    "\n",
    "\n",
    "rob1 = simT.rob(\"Rob1\")\n",
    "h1 = simP.rob_handling_program_easy(\"H1\", 20, bf1, bf2)\n",
    "h2 = simP.rob_handling_program_easy(\"H2\", 25, bf2, bf1)\n",
    "rob1.add_programm(h1)\n",
    "rob1.add_programm(h2)\n",
    "\n"
   ]
  },
  {
   "cell_type": "code",
   "execution_count": 3,
   "metadata": {},
   "outputs": [],
   "source": [
    "core.addObjects([bf1, bf2,rob1])"
   ]
  },
  {
   "cell_type": "code",
   "execution_count": 4,
   "metadata": {},
   "outputs": [
    {
     "name": "stdout",
     "output_type": "stream",
     "text": [
      "-0.008782000000000068\n"
     ]
    }
   ],
   "source": [
    "import timeit\n",
    "start = timeit.timeit()\n",
    "core.run()\n",
    "end = timeit.timeit()\n",
    "print(end - start)"
   ]
  },
  {
   "cell_type": "code",
   "execution_count": 7,
   "metadata": {},
   "outputs": [
    {
     "data": {
      "image/png": "[encoded data removed]",
      "text/plain": [
       "<Figure size 1440x360 with 1 Axes>"
      ]
     },
     "metadata": {
      "needs_background": "light"
     },
     "output_type": "display_data"
    }
   ],
   "source": [
    "core.plotHistory(figsize = (20,5), end_plot = 30*60)"
   ]
  },
  {
   "cell_type": "code",
   "execution_count": 8,
   "metadata": {},
   "outputs": [
    {
     "data": {
      "text/plain": [
       "11521"
      ]
     },
     "execution_count": 8,
     "metadata": {},
     "output_type": "execute_result"
    }
   ],
   "source": [
    "len(core.getHistoryDf())"
   ]
  }
 ],
 "metadata": {
  "interpreter": {
   "hash": "f1e47b4beae640251ad62e41bf32cd72ffc00012b8df10e5c277c2a088690e1a"
  },
  "kernelspec": {
   "display_name": "Python 3.7.10 64-bit ('office': conda)",
   "name": "python3"
  },
  "language_info": {
   "codemirror_mode": {
    "name": "ipython",
    "version": 3
   },
   "file_extension": ".py",
   "mimetype": "text/x-python",
   "name": "python",
   "nbconvert_exporter": "python",
   "pygments_lexer": "ipython3",
   "version": "3.7.10"
  },
  "orig_nbformat": 4
 },
 "nbformat": 4,
 "nbformat_minor": 2
}

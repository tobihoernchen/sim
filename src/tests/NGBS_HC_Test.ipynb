{
 "cells": [
  {
   "cell_type": "code",
   "execution_count": 1,
   "metadata": {},
   "outputs": [],
   "source": [
    "import sys\n",
    "\n",
    "sys.path.append(\"D:/Projekte/Sim/src\")\n",
    "import sim"
   ]
  },
  {
   "cell_type": "code",
   "execution_count": 2,
   "metadata": {},
   "outputs": [
    {
     "data": {
      "text/plain": [
       "<sim.buffer.BufferSource at 0x14940b10388>"
      ]
     },
     "execution_count": 2,
     "metadata": {},
     "output_type": "execute_result"
    }
   ],
   "source": [
    "cycle_time = 65\n",
    "\n",
    "geo1 = sim.DoubleGeo(\"Geo1\", [\"Alle\"], \"Anschluss li\", \"Anschluss re\", 20)\n",
    "sim.BufferSource(\"Source Geo1\", cycle_time, 0, parent = geo1, getNextPart=sim.src_part(\"Alle\"))\n",
    "geo2 = sim.DoubleGeo(\"Geo2\", [\"Alle\"], \"Ltr li\", \"Ltr re\", 20)\n",
    "sim.BufferSource(\"Source Geo2\", cycle_time, 0, parent = geo2, getNextPart=sim.src_part(\"Alle\"))\n",
    "\n",
    "geo3l = sim.Geo(\"Geo3 li\", [\"Ltr li\", \"Anschluss li\", \"Sonst li\"], \"\", 20)\n",
    "sim.BufferDrain(\"Drain Geo3 li\", cycle_time,  parent = geo3l)\n",
    "geo3r = sim.Geo(\"Geo3 re\", [\"Ltr re\", \"Anschluss re\", \"Sonst re\"], \"\", 20)\n",
    "sim.BufferDrain(\"Drain Geo3 re\", cycle_time,  parent = geo3r)\n",
    "\n",
    "in_l= sim.Jig(\"In li\")\n",
    "sim.BufferSource(\"Source In li\", 5, 0, parent = in_l, getNextPart=sim.src_part(\"Sonst li\"))\n",
    "in_r= sim.Jig(\"In re\")\n",
    "sim.BufferSource(\"Source In re\", 5, 0, parent = in_r, getNextPart=sim.src_part(\"Sonst re\"))\n"
   ]
  },
  {
   "cell_type": "code",
   "execution_count": 3,
   "metadata": {},
   "outputs": [
    {
     "data": {
      "text/plain": [
       "<sim.robot.RobHandlingBetter at 0x14940b2c1c8>"
      ]
     },
     "execution_count": 3,
     "metadata": {},
     "output_type": "execute_result"
    }
   ],
   "source": [
    "z_g3r_g2 = sim.Zone(\"Achse Bereich g3r/g2\")\n",
    "z_g3l_g1 = sim.Zone(\"Achse Bereich g3l/g1\")\n",
    "\n",
    "Rob1 = sim.Rob(\"Roboter 1\")\n",
    "sim.RobHandlingBetter(\"1->3r\",[\n",
    "    sim.Pick(geo1, 6, certain_part=\"Anschluss re\", start_condition=sim.cond_buffer_willing_receive(geo3r, \"Anschluss re\"), blocking = z_g3l_g1), \n",
    "    sim.Place(geo3r, 6, 5, blocking=z_g3r_g2)\n",
    "], parent = Rob1)\n",
    "sim.RobHandlingBetter(\"2->3r\",[\n",
    "    sim.Pick(geo2, 6, certain_part=\"Ltr re\" , start_condition=sim.cond_buffer_willing_receive(geo3r, \"Ltr re\"), blocking = z_g3r_g2), \n",
    "    sim.Place(geo3r, 6, 5, blocking = z_g3r_g2)\n",
    "], parent = Rob1)\n",
    "sim.RobHandlingBetter(\"1->3l\",[\n",
    "    sim.Pick(geo1, 6, certain_part=\"Anschluss li\" , start_condition=sim.cond_buffer_willing_receive(geo3l, \"Anschluss li\"), blocking = z_g3l_g1), \n",
    "    sim.Place(geo3l, 6, 5, blocking = z_g3l_g1)\n",
    "], parent = Rob1)\n",
    "sim.RobHandlingBetter(\"2->3l\",[\n",
    "    sim.Pick(geo2, 6, certain_part=\"Ltr li\" , start_condition=sim.cond_buffer_willing_receive(geo3l, \"Ltr li\"), blocking = z_g3r_g2), \n",
    "    sim.Place(geo3l, 6, 5, blocking = z_g3l_g1)\n",
    "], parent = Rob1)\n",
    "Rob2 = sim.Rob(\"Roboter 2\")\n",
    "sim.RobHandlingBetter(\"in_l->3l\",[\n",
    "    sim.Pick(in_l, 6, start_condition=sim.cond_buffer_willing_receive(geo3l,\"Sonst li\")),\n",
    "    sim.Place(geo3l, 6, 5, blocking = z_g3l_g1)\n",
    "], parent = Rob2)\n",
    "sim.RobHandlingBetter(\"in_r->3r\",[\n",
    "    sim.Pick(in_r, 6, start_condition=sim.cond_buffer_willing_receive(geo3r, \"Sonst re\")),\n",
    "    sim.Place(geo3r, 6, 5, blocking=z_g3r_g2)\n",
    "], parent = Rob2)"
   ]
  },
  {
   "cell_type": "code",
   "execution_count": 4,
   "metadata": {},
   "outputs": [],
   "source": [
    "sim.core.run(0, 60 * 60)"
   ]
  },
  {
   "cell_type": "code",
   "execution_count": 5,
   "metadata": {},
   "outputs": [
    {
     "data": {
      "application/vnd.plotly.v1+json": {
       "config": {
        "plotlyServerURL": "https://plot.ly"
       },
       "data": [
        {
         "hovertemplate": "tag=Geo1_Geo<br>x=%{x}<br>y=%{y}<br>text=%{text}<extra></extra>",
         "legendgroup": "Geo1_Geo",
         "line": {
          "color": "#636efa",
          "dash": "solid"
         },
         "marker": {
          "symbol": "circle"
         },
         "mode": "text+markers+lines",
         "name": "Geo1_Geo",
         "orientation": "v",
         "showlegend": true,
         "text": [
          "20.0",
          "",
          ""
         ],
         "textposition": "top center",
         "type": "scatter",
         "x": [
          0,
          20,
          null
         ],
         "xaxis": "x",
         "y": [
          0,
          0,
          null
         ],
         "yaxis": "y"
        },
        {
         "hovertemplate": "tag=Geo2_Geo<br>x=%{x}<br>y=%{y}<br>text=%{text}<extra></extra>",
         "legendgroup": "Geo2_Geo",
         "line": {
          "color": "#EF553B",
          "dash": "solid"
         },
         "marker": {
          "symbol": "circle"
         },
         "mode": "text+markers+lines",
         "name": "Geo2_Geo",
         "orientation": "v",
         "showlegend": true,
         "text": [
          "20.0",
          "",
          ""
         ],
         "textposition": "top center",
         "type": "scatter",
         "x": [
          0,
          20,
          null
         ],
         "xaxis": "x",
         "y": [
          1,
          1,
          null
         ],
         "yaxis": "y"
        },
        {
         "hovertemplate": "tag=blockedbyin_r->3r<br>x=%{x}<br>y=%{y}<br>text=%{text}<extra></extra>",
         "legendgroup": "blockedbyin_r->3r",
         "line": {
          "color": "#00cc96",
          "dash": "solid"
         },
         "marker": {
          "symbol": "circle"
         },
         "mode": "text+markers+lines",
         "name": "blockedbyin_r->3r",
         "orientation": "v",
         "showlegend": true,
         "text": [
          "6.0",
          "",
          ""
         ],
         "textposition": "top center",
         "type": "scatter",
         "x": [
          28,
          34,
          null
         ],
         "xaxis": "x",
         "y": [
          2,
          2,
          null
         ],
         "yaxis": "y"
        },
        {
         "hovertemplate": "tag=blockedbyin_l->3l<br>x=%{x}<br>y=%{y}<br>text=%{text}<extra></extra>",
         "legendgroup": "blockedbyin_l->3l",
         "line": {
          "color": "#ab63fa",
          "dash": "solid"
         },
         "marker": {
          "symbol": "circle"
         },
         "mode": "text+markers+lines",
         "name": "blockedbyin_l->3l",
         "orientation": "v",
         "showlegend": true,
         "text": [
          "6.0",
          "",
          ""
         ],
         "textposition": "top center",
         "type": "scatter",
         "x": [
          11,
          17,
          null
         ],
         "xaxis": "x",
         "y": [
          3,
          3,
          null
         ],
         "yaxis": "y"
        },
        {
         "hovertemplate": "tag=blockedby1->3r<br>x=%{x}<br>y=%{y}<br>text=%{text}<extra></extra>",
         "legendgroup": "blockedby1->3r",
         "line": {
          "color": "#FFA15A",
          "dash": "solid"
         },
         "marker": {
          "symbol": "circle"
         },
         "mode": "text+markers+lines",
         "name": "blockedby1->3r",
         "orientation": "v",
         "showlegend": true,
         "text": [
          "6.0",
          "",
          ""
         ],
         "textposition": "top center",
         "type": "scatter",
         "x": [
          20,
          26,
          null
         ],
         "xaxis": "x",
         "y": [
          3,
          3,
          null
         ],
         "yaxis": "y"
        },
        {
         "hovertemplate": "tag=1->3r<br>x=%{x}<br>y=%{y}<br>text=%{text}<extra></extra>",
         "legendgroup": "1->3r",
         "line": {
          "color": "#19d3f3",
          "dash": "solid"
         },
         "marker": {
          "symbol": "circle"
         },
         "mode": "text+markers+lines",
         "name": "1->3r",
         "orientation": "v",
         "showlegend": true,
         "text": [
          "3580.0",
          "",
          "",
          "3580.0",
          "",
          ""
         ],
         "textposition": "top center",
         "type": "scatter",
         "x": [
          20,
          3600,
          null,
          20,
          3600,
          null
         ],
         "xaxis": "x",
         "y": [
          4,
          4,
          null,
          4,
          4,
          null
         ],
         "yaxis": "y"
        },
        {
         "hovertemplate": "tag=in_l->3l<br>x=%{x}<br>y=%{y}<br>text=%{text}<extra></extra>",
         "legendgroup": "in_l->3l",
         "line": {
          "color": "#FF6692",
          "dash": "solid"
         },
         "marker": {
          "symbol": "circle"
         },
         "mode": "text+markers+lines",
         "name": "in_l->3l",
         "orientation": "v",
         "showlegend": true,
         "text": [
          "17.0",
          "",
          ""
         ],
         "textposition": "top center",
         "type": "scatter",
         "x": [
          0,
          17,
          null
         ],
         "xaxis": "x",
         "y": [
          5,
          5,
          null
         ],
         "yaxis": "y"
        },
        {
         "hovertemplate": "tag=in_r->3r<br>x=%{x}<br>y=%{y}<br>text=%{text}<extra></extra>",
         "legendgroup": "in_r->3r",
         "line": {
          "color": "#B6E880",
          "dash": "solid"
         },
         "marker": {
          "symbol": "circle"
         },
         "mode": "text+markers+lines",
         "name": "in_r->3r",
         "orientation": "v",
         "showlegend": true,
         "text": [
          "17.0",
          "",
          ""
         ],
         "textposition": "top center",
         "type": "scatter",
         "x": [
          17,
          34,
          null
         ],
         "xaxis": "x",
         "y": [
          5,
          5,
          null
         ],
         "yaxis": "y"
        }
       ],
       "layout": {
        "legend": {
         "title": {
          "text": "tag"
         },
         "tracegroupgap": 0
        },
        "margin": {
         "t": 60
        },
        "template": {
         "data": {
          "bar": [
           {
            "error_x": {
             "color": "#2a3f5f"
            },
            "error_y": {
             "color": "#2a3f5f"
            },
            "marker": {
             "line": {
              "color": "#E5ECF6",
              "width": 0.5
             },
             "pattern": {
              "fillmode": "overlay",
              "size": 10,
              "solidity": 0.2
             }
            },
            "type": "bar"
           }
          ],
          "barpolar": [
           {
            "marker": {
             "line": {
              "color": "#E5ECF6",
              "width": 0.5
             },
             "pattern": {
              "fillmode": "overlay",
              "size": 10,
              "solidity": 0.2
             }
            },
            "type": "barpolar"
           }
          ],
          "carpet": [
           {
            "aaxis": {
             "endlinecolor": "#2a3f5f",
             "gridcolor": "white",
             "linecolor": "white",
             "minorgridcolor": "white",
             "startlinecolor": "#2a3f5f"
            },
            "baxis": {
             "endlinecolor": "#2a3f5f",
             "gridcolor": "white",
             "linecolor": "white",
             "minorgridcolor": "white",
             "startlinecolor": "#2a3f5f"
            },
            "type": "carpet"
           }
          ],
          "choropleth": [
           {
            "colorbar": {
             "outlinewidth": 0,
             "ticks": ""
            },
            "type": "choropleth"
           }
          ],
          "contour": [
           {
            "colorbar": {
             "outlinewidth": 0,
             "ticks": ""
            },
            "colorscale": [
             [
              0,
              "#0d0887"
             ],
             [
              0.1111111111111111,
              "#46039f"
             ],
             [
              0.2222222222222222,
              "#7201a8"
             ],
             [
              0.3333333333333333,
              "#9c179e"
             ],
             [
              0.4444444444444444,
              "#bd3786"
             ],
             [
              0.5555555555555556,
              "#d8576b"
             ],
             [
              0.6666666666666666,
              "#ed7953"
             ],
             [
              0.7777777777777778,
              "#fb9f3a"
             ],
             [
              0.8888888888888888,
              "#fdca26"
             ],
             [
              1,
              "#f0f921"
             ]
            ],
            "type": "contour"
           }
          ],
          "contourcarpet": [
           {
            "colorbar": {
             "outlinewidth": 0,
             "ticks": ""
            },
            "type": "contourcarpet"
           }
          ],
          "heatmap": [
           {
            "colorbar": {
             "outlinewidth": 0,
             "ticks": ""
            },
            "colorscale": [
             [
              0,
              "#0d0887"
             ],
             [
              0.1111111111111111,
              "#46039f"
             ],
             [
              0.2222222222222222,
              "#7201a8"
             ],
             [
              0.3333333333333333,
              "#9c179e"
             ],
             [
              0.4444444444444444,
              "#bd3786"
             ],
             [
              0.5555555555555556,
              "#d8576b"
             ],
             [
              0.6666666666666666,
              "#ed7953"
             ],
             [
              0.7777777777777778,
              "#fb9f3a"
             ],
             [
              0.8888888888888888,
              "#fdca26"
             ],
             [
              1,
              "#f0f921"
             ]
            ],
            "type": "heatmap"
           }
          ],
          "heatmapgl": [
           {
            "colorbar": {
             "outlinewidth": 0,
             "ticks": ""
            },
            "colorscale": [
             [
              0,
              "#0d0887"
             ],
             [
              0.1111111111111111,
              "#46039f"
             ],
             [
              0.2222222222222222,
              "#7201a8"
             ],
             [
              0.3333333333333333,
              "#9c179e"
             ],
             [
              0.4444444444444444,
              "#bd3786"
             ],
             [
              0.5555555555555556,
              "#d8576b"
             ],
             [
              0.6666666666666666,
              "#ed7953"
             ],
             [
              0.7777777777777778,
              "#fb9f3a"
             ],
             [
              0.8888888888888888,
              "#fdca26"
             ],
             [
              1,
              "#f0f921"
             ]
            ],
            "type": "heatmapgl"
           }
          ],
          "histogram": [
           {
            "marker": {
             "pattern": {
              "fillmode": "overlay",
              "size": 10,
              "solidity": 0.2
             }
            },
            "type": "histogram"
           }
          ],
          "histogram2d": [
           {
            "colorbar": {
             "outlinewidth": 0,
             "ticks": ""
            },
            "colorscale": [
             [
              0,
              "#0d0887"
             ],
             [
              0.1111111111111111,
              "#46039f"
             ],
             [
              0.2222222222222222,
              "#7201a8"
             ],
             [
              0.3333333333333333,
              "#9c179e"
             ],
             [
              0.4444444444444444,
              "#bd3786"
             ],
             [
              0.5555555555555556,
              "#d8576b"
             ],
             [
              0.6666666666666666,
              "#ed7953"
             ],
             [
              0.7777777777777778,
              "#fb9f3a"
             ],
             [
              0.8888888888888888,
              "#fdca26"
             ],
             [
              1,
              "#f0f921"
             ]
            ],
            "type": "histogram2d"
           }
          ],
          "histogram2dcontour": [
           {
            "colorbar": {
             "outlinewidth": 0,
             "ticks": ""
            },
            "colorscale": [
             [
              0,
              "#0d0887"
             ],
             [
              0.1111111111111111,
              "#46039f"
             ],
             [
              0.2222222222222222,
              "#7201a8"
             ],
             [
              0.3333333333333333,
              "#9c179e"
             ],
             [
              0.4444444444444444,
              "#bd3786"
             ],
             [
              0.5555555555555556,
              "#d8576b"
             ],
             [
              0.6666666666666666,
              "#ed7953"
             ],
             [
              0.7777777777777778,
              "#fb9f3a"
             ],
             [
              0.8888888888888888,
              "#fdca26"
             ],
             [
              1,
              "#f0f921"
             ]
            ],
            "type": "histogram2dcontour"
           }
          ],
          "mesh3d": [
           {
            "colorbar": {
             "outlinewidth": 0,
             "ticks": ""
            },
            "type": "mesh3d"
           }
          ],
          "parcoords": [
           {
            "line": {
             "colorbar": {
              "outlinewidth": 0,
              "ticks": ""
             }
            },
            "type": "parcoords"
           }
          ],
          "pie": [
           {
            "automargin": true,
            "type": "pie"
           }
          ],
          "scatter": [
           {
            "marker": {
             "colorbar": {
              "outlinewidth": 0,
              "ticks": ""
             }
            },
            "type": "scatter"
           }
          ],
          "scatter3d": [
           {
            "line": {
             "colorbar": {
              "outlinewidth": 0,
              "ticks": ""
             }
            },
            "marker": {
             "colorbar": {
              "outlinewidth": 0,
              "ticks": ""
             }
            },
            "type": "scatter3d"
           }
          ],
          "scattercarpet": [
           {
            "marker": {
             "colorbar": {
              "outlinewidth": 0,
              "ticks": ""
             }
            },
            "type": "scattercarpet"
           }
          ],
          "scattergeo": [
           {
            "marker": {
             "colorbar": {
              "outlinewidth": 0,
              "ticks": ""
             }
            },
            "type": "scattergeo"
           }
          ],
          "scattergl": [
           {
            "marker": {
             "colorbar": {
              "outlinewidth": 0,
              "ticks": ""
             }
            },
            "type": "scattergl"
           }
          ],
          "scattermapbox": [
           {
            "marker": {
             "colorbar": {
              "outlinewidth": 0,
              "ticks": ""
             }
            },
            "type": "scattermapbox"
           }
          ],
          "scatterpolar": [
           {
            "marker": {
             "colorbar": {
              "outlinewidth": 0,
              "ticks": ""
             }
            },
            "type": "scatterpolar"
           }
          ],
          "scatterpolargl": [
           {
            "marker": {
             "colorbar": {
              "outlinewidth": 0,
              "ticks": ""
             }
            },
            "type": "scatterpolargl"
           }
          ],
          "scatterternary": [
           {
            "marker": {
             "colorbar": {
              "outlinewidth": 0,
              "ticks": ""
             }
            },
            "type": "scatterternary"
           }
          ],
          "surface": [
           {
            "colorbar": {
             "outlinewidth": 0,
             "ticks": ""
            },
            "colorscale": [
             [
              0,
              "#0d0887"
             ],
             [
              0.1111111111111111,
              "#46039f"
             ],
             [
              0.2222222222222222,
              "#7201a8"
             ],
             [
              0.3333333333333333,
              "#9c179e"
             ],
             [
              0.4444444444444444,
              "#bd3786"
             ],
             [
              0.5555555555555556,
              "#d8576b"
             ],
             [
              0.6666666666666666,
              "#ed7953"
             ],
             [
              0.7777777777777778,
              "#fb9f3a"
             ],
             [
              0.8888888888888888,
              "#fdca26"
             ],
             [
              1,
              "#f0f921"
             ]
            ],
            "type": "surface"
           }
          ],
          "table": [
           {
            "cells": {
             "fill": {
              "color": "#EBF0F8"
             },
             "line": {
              "color": "white"
             }
            },
            "header": {
             "fill": {
              "color": "#C8D4E3"
             },
             "line": {
              "color": "white"
             }
            },
            "type": "table"
           }
          ]
         },
         "layout": {
          "annotationdefaults": {
           "arrowcolor": "#2a3f5f",
           "arrowhead": 0,
           "arrowwidth": 1
          },
          "autotypenumbers": "strict",
          "coloraxis": {
           "colorbar": {
            "outlinewidth": 0,
            "ticks": ""
           }
          },
          "colorscale": {
           "diverging": [
            [
             0,
             "#8e0152"
            ],
            [
             0.1,
             "#c51b7d"
            ],
            [
             0.2,
             "#de77ae"
            ],
            [
             0.3,
             "#f1b6da"
            ],
            [
             0.4,
             "#fde0ef"
            ],
            [
             0.5,
             "#f7f7f7"
            ],
            [
             0.6,
             "#e6f5d0"
            ],
            [
             0.7,
             "#b8e186"
            ],
            [
             0.8,
             "#7fbc41"
            ],
            [
             0.9,
             "#4d9221"
            ],
            [
             1,
             "#276419"
            ]
           ],
           "sequential": [
            [
             0,
             "#0d0887"
            ],
            [
             0.1111111111111111,
             "#46039f"
            ],
            [
             0.2222222222222222,
             "#7201a8"
            ],
            [
             0.3333333333333333,
             "#9c179e"
            ],
            [
             0.4444444444444444,
             "#bd3786"
            ],
            [
             0.5555555555555556,
             "#d8576b"
            ],
            [
             0.6666666666666666,
             "#ed7953"
            ],
            [
             0.7777777777777778,
             "#fb9f3a"
            ],
            [
             0.8888888888888888,
             "#fdca26"
            ],
            [
             1,
             "#f0f921"
            ]
           ],
           "sequentialminus": [
            [
             0,
             "#0d0887"
            ],
            [
             0.1111111111111111,
             "#46039f"
            ],
            [
             0.2222222222222222,
             "#7201a8"
            ],
            [
             0.3333333333333333,
             "#9c179e"
            ],
            [
             0.4444444444444444,
             "#bd3786"
            ],
            [
             0.5555555555555556,
             "#d8576b"
            ],
            [
             0.6666666666666666,
             "#ed7953"
            ],
            [
             0.7777777777777778,
             "#fb9f3a"
            ],
            [
             0.8888888888888888,
             "#fdca26"
            ],
            [
             1,
             "#f0f921"
            ]
           ]
          },
          "colorway": [
           "#636efa",
           "#EF553B",
           "#00cc96",
           "#ab63fa",
           "#FFA15A",
           "#19d3f3",
           "#FF6692",
           "#B6E880",
           "#FF97FF",
           "#FECB52"
          ],
          "font": {
           "color": "#2a3f5f"
          },
          "geo": {
           "bgcolor": "white",
           "lakecolor": "white",
           "landcolor": "#E5ECF6",
           "showlakes": true,
           "showland": true,
           "subunitcolor": "white"
          },
          "hoverlabel": {
           "align": "left"
          },
          "hovermode": "closest",
          "mapbox": {
           "style": "light"
          },
          "paper_bgcolor": "white",
          "plot_bgcolor": "#E5ECF6",
          "polar": {
           "angularaxis": {
            "gridcolor": "white",
            "linecolor": "white",
            "ticks": ""
           },
           "bgcolor": "#E5ECF6",
           "radialaxis": {
            "gridcolor": "white",
            "linecolor": "white",
            "ticks": ""
           }
          },
          "scene": {
           "xaxis": {
            "backgroundcolor": "#E5ECF6",
            "gridcolor": "white",
            "gridwidth": 2,
            "linecolor": "white",
            "showbackground": true,
            "ticks": "",
            "zerolinecolor": "white"
           },
           "yaxis": {
            "backgroundcolor": "#E5ECF6",
            "gridcolor": "white",
            "gridwidth": 2,
            "linecolor": "white",
            "showbackground": true,
            "ticks": "",
            "zerolinecolor": "white"
           },
           "zaxis": {
            "backgroundcolor": "#E5ECF6",
            "gridcolor": "white",
            "gridwidth": 2,
            "linecolor": "white",
            "showbackground": true,
            "ticks": "",
            "zerolinecolor": "white"
           }
          },
          "shapedefaults": {
           "line": {
            "color": "#2a3f5f"
           }
          },
          "ternary": {
           "aaxis": {
            "gridcolor": "white",
            "linecolor": "white",
            "ticks": ""
           },
           "baxis": {
            "gridcolor": "white",
            "linecolor": "white",
            "ticks": ""
           },
           "bgcolor": "#E5ECF6",
           "caxis": {
            "gridcolor": "white",
            "linecolor": "white",
            "ticks": ""
           }
          },
          "title": {
           "x": 0.05
          },
          "xaxis": {
           "automargin": true,
           "gridcolor": "white",
           "linecolor": "white",
           "ticks": "",
           "title": {
            "standoff": 15
           },
           "zerolinecolor": "white",
           "zerolinewidth": 2
          },
          "yaxis": {
           "automargin": true,
           "gridcolor": "white",
           "linecolor": "white",
           "ticks": "",
           "title": {
            "standoff": 15
           },
           "zerolinecolor": "white",
           "zerolinewidth": 2
          }
         }
        },
        "xaxis": {
         "anchor": "y",
         "domain": [
          0,
          1
         ],
         "rangeslider": {
          "visible": true
         },
         "title": {
          "text": "x"
         }
        },
        "yaxis": {
         "anchor": "x",
         "domain": [
          0,
          1
         ],
         "fixedrange": false,
         "tickmode": "array",
         "ticktext": [
          "State_Geo1",
          "State_Geo2",
          "Achse Bereich g3r/g2",
          "Achse Bereich g3l/g1",
          "Program_Roboter 1",
          "Program_Roboter 2"
         ],
         "tickvals": [
          0,
          1,
          2,
          3,
          4,
          5
         ],
         "title": {
          "text": "y"
         }
        }
       }
      }
     },
     "metadata": {},
     "output_type": "display_data"
    }
   ],
   "source": [
    "sim.core.plotHistory(excludes = [\"Fill\"])"
   ]
  }
 ],
 "metadata": {
  "interpreter": {
   "hash": "a9426e58bb9ec6e23e003952e7264cb52b052beb90c3ce10bff7f688815af85a"
  },
  "kernelspec": {
   "display_name": "Python 3.7.12 64-bit ('sim': conda)",
   "language": "python",
   "name": "python3"
  },
  "language_info": {
   "codemirror_mode": {
    "name": "ipython",
    "version": 3
   },
   "file_extension": ".py",
   "mimetype": "text/x-python",
   "name": "python",
   "nbconvert_exporter": "python",
   "pygments_lexer": "ipython3",
   "version": "3.7.12"
  },
  "orig_nbformat": 4
 },
 "nbformat": 4,
 "nbformat_minor": 2
}
